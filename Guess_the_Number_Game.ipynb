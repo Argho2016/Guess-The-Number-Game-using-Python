{
  "nbformat": 4,
  "nbformat_minor": 0,
  "metadata": {
    "colab": {
      "name": "Guess the Number Game.ipynb",
      "provenance": []
    },
    "kernelspec": {
      "name": "python3",
      "display_name": "Python 3"
    },
    "language_info": {
      "name": "python"
    }
  },
  "cells": [
    {
      "cell_type": "code",
      "metadata": {
        "colab": {
          "base_uri": "https://localhost:8080/"
        },
        "id": "eI-glnyzhs-N",
        "outputId": "d635afbb-0658-4c17-c337-8c83c0d56b69"
      },
      "source": [
        "from random import randrange\n",
        "n = randrange(1000)\n",
        "while True:\n",
        "  v = int(input())\n",
        "  if n == v:\n",
        "    print('You Win!')\n",
        "    break\n",
        "  print('Smaller' if (n < v) else 'Bigger')"
      ],
      "execution_count": 5,
      "outputs": [
        {
          "output_type": "stream",
          "name": "stdout",
          "text": [
            "200\n",
            "Bigger\n",
            "250\n",
            "Smaller\n",
            "240\n",
            "Smaller\n",
            "230\n",
            "Smaller\n",
            "220\n",
            "Bigger\n",
            "221\n",
            "Bigger\n",
            "222\n",
            "Bigger\n",
            "3\n",
            "Bigger\n",
            "223\n",
            "Bigger\n",
            "225\n",
            "Smaller\n",
            "224\n",
            "You Win!\n"
          ]
        }
      ]
    },
    {
      "cell_type": "code",
      "metadata": {
        "colab": {
          "base_uri": "https://localhost:8080/"
        },
        "id": "WqkDfV0Ch1IV",
        "outputId": "e6403d89-aa4f-47d3-b0c7-8902daf8981f"
      },
      "source": [
        "22"
      ],
      "execution_count": 6,
      "outputs": [
        {
          "output_type": "execute_result",
          "data": {
            "text/plain": [
              "22"
            ]
          },
          "metadata": {},
          "execution_count": 6
        }
      ]
    },
    {
      "cell_type": "code",
      "metadata": {
        "id": "eOgrjXaDiWkD"
      },
      "source": [
        ""
      ],
      "execution_count": null,
      "outputs": []
    }
  ]
}